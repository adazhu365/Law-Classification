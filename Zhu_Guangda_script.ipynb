{
 "cells": [
  {
   "cell_type": "markdown",
   "metadata": {},
   "source": [
    "# READ ME\n",
    "\n",
    "This notebook aims to predict the area of law associated with each of the 100 judgements by analyzing the labeled Indian law judgement data. Some of the approaches included here are: SVM, Naive Bayes, LogisticRegression, and LDA. \n",
    "\n",
    "The validation F1 score across different models are quite similar and the best one is around 0.64 (Naive Bayes). \n",
    "\n",
    "To adjust for the imbalanced data, I tried grouping smaller area of law into ONE category, and also upsampling. \n",
    "\n",
    "*There might be some libraries that are not commonly used and would need to be installed such as mlxtend.\n",
    "\n",
    "Thank you for reading. \n",
    "\n",
    "--Guangda (gz6xw@virginia.edu)"
   ]
  },
  {
   "cell_type": "code",
   "execution_count": null,
   "metadata": {},
   "outputs": [],
   "source": [
    "import pandas as pd\n",
    "import numpy as np\n",
    "import re\n",
    "import glob\n",
    "import os\n",
    "import spacy\n",
    "import gensim\n",
    "from gensim.corpora.dictionary import Dictionary\n",
    "from gensim.parsing.preprocessing import STOPWORDS\n",
    "from gensim.models import CoherenceModel\n",
    "\n",
    "import nltk\n",
    "nltk.download('wordnet')\n",
    "from nltk.stem import WordNetLemmatizer\n",
    "\n",
    "from sklearn.feature_extraction.text import TfidfVectorizer, CountVectorizer, TfidfTransformer\n",
    "from sklearn.naive_bayes import MultinomialNB\n",
    "from sklearn.metrics import roc_auc_score, accuracy_score, classification_report, confusion_matrix \n",
    "from sklearn.model_selection import train_test_split, GridSearchCV, cross_val_score\n",
    "from sklearn import model_selection, preprocessing, linear_model, naive_bayes, metrics, svm\n",
    "from sklearn.pipeline import Pipeline\n",
    "from sklearn.linear_model import LogisticRegression\n",
    "from sklearn.ensemble import RandomForestClassifier\n",
    "from sklearn.svm import LinearSVC\n",
    "from sklearn.utils import resample\n",
    "\n",
    "\n",
    "import matplotlib.pyplot as plt\n",
    "import seaborn as sns; sns.set()\n",
    "\n",
    "from mlxtend.classifier import EnsembleVoteClassifier\n",
    "from imblearn.over_sampling import RandomOverSampler # doctest: +NORMALIZE_WHITESPACE\n"
   ]
  },
  {
   "cell_type": "code",
   "execution_count": 208,
   "metadata": {},
   "outputs": [
    {
     "data": {
      "text/plain": [
       "'/sfs/lustre/bahamut/scratch/gz6xw/rule14/Sample Problem/Fixed Judgements'"
      ]
     },
     "execution_count": 208,
     "metadata": {},
     "output_type": "execute_result"
    }
   ],
   "source": [
    "os.getcwd()"
   ]
  },
  {
   "cell_type": "code",
   "execution_count": null,
   "metadata": {},
   "outputs": [],
   "source": [
    "#adjust working directory accordingly\n",
    "os.chdir(\"./Fixed Judgements\")"
   ]
  },
  {
   "cell_type": "markdown",
   "metadata": {},
   "source": [
    "# Data Preprocessing"
   ]
  },
  {
   "cell_type": "code",
   "execution_count": 211,
   "metadata": {},
   "outputs": [],
   "source": [
    "def clean(sentences):\n",
    "    nlp = spacy.load('en')\n",
    "    docs = [nlp(s) for s in sentences]\n",
    "    processed_text = []\n",
    "    for doc in docs:\n",
    "        lemmas = []\n",
    "        for token in doc:\n",
    "            if not token.is_punct and token.lemma_ != '-PRON-':\n",
    "                lemmas.append(token.lemma_)\n",
    "            if token.lemma_ == '-PRON-' and token.is_alpha:\n",
    "                lemmas.append(token.text)\n",
    "            elif token.lemma_ == '-PRON-' and token.text == '’s':\n",
    "                lemmas.append('us')\n",
    "        processed_text.append(' '.join(lemmas))\n",
    "    return processed_text"
   ]
  },
  {
   "cell_type": "code",
   "execution_count": 212,
   "metadata": {},
   "outputs": [],
   "source": [
    "all_doc=pd.DataFrame()\n",
    "\n",
    "for files in glob.glob(\"*.txt\"):\n",
    "    \n",
    "    lines = open(files, 'r', encoding = 'Latin-1').readlines()\n",
    "    \n",
    "    file, extension = files.split('.')\n",
    "    df = pd.DataFrame(lines, columns=[file])\n",
    "    \n",
    "    #grab lines after judgements\n",
    "    a = df[file].str.match(r\"^.*(Judgment).*$\")\n",
    "    an = df.loc[a +1].index[0] \n",
    "    df = df.loc[an : ]\n",
    "        \n",
    "    #merge all sentences into one row\n",
    "    df = df.apply(' '.join).reset_index() \n",
    "    \n",
    "    all_doc = pd.concat([all_doc,df],axis=0) \n"
   ]
  },
  {
   "cell_type": "code",
   "execution_count": 210,
   "metadata": {},
   "outputs": [],
   "source": [
    "# lemmatizer\n",
    "lemmatizer = WordNetLemmatizer()\n",
    "\n",
    "# spacy model\n",
    "nlp = spacy.load(\"en\")\n",
    "\n",
    "# function to lemmatize a given word\n",
    "def lemmatize(text):\n",
    "    return lemmatizer.lemmatize(text, pos = \"n\")\n",
    "\n",
    "# function to preprocess the text\n",
    "def preprocess(text):\n",
    "    result = ''\n",
    "    for word in gensim.utils.simple_preprocess(text):\n",
    "        if word not in gensim.parsing.preprocessing.STOPWORDS and len(word) > 3:\n",
    "\n",
    "        #if len(word) > 3:\n",
    "            l = lemmatize(word)\n",
    "            if len(l) > 3:\n",
    "                result = result + ' ' + l.lower()\n",
    "    return result"
   ]
  },
  {
   "cell_type": "code",
   "execution_count": 213,
   "metadata": {},
   "outputs": [],
   "source": [
    "all_doc.reset_index(drop = True, inplace = True)\n",
    "all_doc.columns = [\"Judgements\", \"text\"]\n",
    "#all_doc['text'] = clean(all_doc['text'])\n",
    "\n",
    "#all_doc['text'] =  [re.sub('<.*?>|\\\\\\n|[^A-Za-z ]+','', str(x)) for x in all_doc['text']]\n",
    "all_doc['processed_text'] = all_doc.text.map(preprocess)# do not remove stopwords since using tf-idf\n",
    "#all_doc"
   ]
  },
  {
   "cell_type": "code",
   "execution_count": 214,
   "metadata": {},
   "outputs": [
    {
     "data": {
      "text/html": [
       "<div>\n",
       "<style scoped>\n",
       "    .dataframe tbody tr th:only-of-type {\n",
       "        vertical-align: middle;\n",
       "    }\n",
       "\n",
       "    .dataframe tbody tr th {\n",
       "        vertical-align: top;\n",
       "    }\n",
       "\n",
       "    .dataframe thead th {\n",
       "        text-align: right;\n",
       "    }\n",
       "</style>\n",
       "<table border=\"1\" class=\"dataframe\">\n",
       "  <thead>\n",
       "    <tr style=\"text-align: right;\">\n",
       "      <th></th>\n",
       "      <th>Judgements</th>\n",
       "      <th>text</th>\n",
       "      <th>processed_text</th>\n",
       "      <th>Area.of.Law</th>\n",
       "    </tr>\n",
       "  </thead>\n",
       "  <tbody>\n",
       "    <tr>\n",
       "      <th>0</th>\n",
       "      <td>LNIND_1954_CAL_1</td>\n",
       "      <td>\\n Parties\\n Bepin Behari Ghanti Versus Mohamm...</td>\n",
       "      <td>party bepin behari ghanti versus mohammad hos...</td>\n",
       "      <td>Tenancy Laws</td>\n",
       "    </tr>\n",
       "    <tr>\n",
       "      <th>1</th>\n",
       "      <td>LNIND_1979_CAL_184</td>\n",
       "      <td>Parties\\n Gobindlal Bangur Versus Wealth-tax O...</td>\n",
       "      <td>party gobindlal bangur versus wealth officer ...</td>\n",
       "      <td>Income Tax</td>\n",
       "    </tr>\n",
       "    <tr>\n",
       "      <th>2</th>\n",
       "      <td>LNIND_1980_CAL_226</td>\n",
       "      <td>Commissioner of Income-tax Versus C.L. Bajoria...</td>\n",
       "      <td>commissioner income versus bajoria high court...</td>\n",
       "      <td>To be Tested</td>\n",
       "    </tr>\n",
       "    <tr>\n",
       "      <th>3</th>\n",
       "      <td>LNIND_1952_CAL_114</td>\n",
       "      <td>\\n &lt;LG&gt; Original Side Rules &lt;/LG&gt;\\n  &lt;PV&gt;Chapt...</td>\n",
       "      <td>original rule chapter rule party good kumar b...</td>\n",
       "      <td>To be Tested</td>\n",
       "    </tr>\n",
       "    <tr>\n",
       "      <th>4</th>\n",
       "      <td>LNIND_1980_CAL_84</td>\n",
       "      <td>Parties\\n Jute Corporation of India Ltd Versus...</td>\n",
       "      <td>party jute corporation india versus commissio...</td>\n",
       "      <td>Income Tax</td>\n",
       "    </tr>\n",
       "  </tbody>\n",
       "</table>\n",
       "</div>"
      ],
      "text/plain": [
       "           Judgements                                               text  \\\n",
       "0    LNIND_1954_CAL_1  \\n Parties\\n Bepin Behari Ghanti Versus Mohamm...   \n",
       "1  LNIND_1979_CAL_184  Parties\\n Gobindlal Bangur Versus Wealth-tax O...   \n",
       "2  LNIND_1980_CAL_226  Commissioner of Income-tax Versus C.L. Bajoria...   \n",
       "3  LNIND_1952_CAL_114  \\n <LG> Original Side Rules </LG>\\n  <PV>Chapt...   \n",
       "4   LNIND_1980_CAL_84  Parties\\n Jute Corporation of India Ltd Versus...   \n",
       "\n",
       "                                      processed_text   Area.of.Law  \n",
       "0   party bepin behari ghanti versus mohammad hos...  Tenancy Laws  \n",
       "1   party gobindlal bangur versus wealth officer ...    Income Tax  \n",
       "2   commissioner income versus bajoria high court...  To be Tested  \n",
       "3   original rule chapter rule party good kumar b...  To be Tested  \n",
       "4   party jute corporation india versus commissio...    Income Tax  "
      ]
     },
     "execution_count": 214,
     "metadata": {},
     "output_type": "execute_result"
    }
   ],
   "source": [
    "#add in the labels to judgement table\n",
    "labels = pd.read_csv('../Interview_Mapping.csv')\n",
    "all_doc2 = pd.merge(all_doc, labels, how = 'left', on = 'Judgements')\n",
    "all_doc2.head()"
   ]
  },
  {
   "cell_type": "markdown",
   "metadata": {},
   "source": [
    "# DATA EXPLORATORY"
   ]
  },
  {
   "cell_type": "code",
   "execution_count": 215,
   "metadata": {},
   "outputs": [],
   "source": [
    "area_count = all_doc2[['Judgements', 'Area.of.Law']].groupby('Area.of.Law').agg('count').sort_values('Judgements', ascending = False).reset_index()\n",
    "#area_count # 42 unique domains"
   ]
  },
  {
   "cell_type": "code",
   "execution_count": 216,
   "metadata": {},
   "outputs": [
    {
     "data": {
      "text/plain": [
       "Text(0.5, 0, 'Area.of.Law')"
      ]
     },
     "execution_count": 216,
     "metadata": {},
     "output_type": "execute_result"
    },
    {
     "data": {
      "image/png": "[encoded data removed]",
      "text/plain": [
       "<Figure size 576x360 with 1 Axes>"
      ]
     },
     "metadata": {},
     "output_type": "display_data"
    }
   ],
   "source": [
    "area_count.plot(x='Area.of.Law', y='Judgements', kind='bar', legend=False, grid=True, figsize=(8, 5))\n",
    "plt.title(\"Number of Judgement per Area.of.Law\")\n",
    "plt.ylabel('Count', fontsize=12)\n",
    "plt.xlabel('Area.of.Law', fontsize=12)"
   ]
  },
  {
   "cell_type": "markdown",
   "metadata": {},
   "source": [
    "From the above grah we can see a clear left skewed distribution and imbalance within the dataset. Certain areas of law such as 'Consumer Law' is only associating to one document, while other areas could have as many as 136. Such discrepancy in the size of each category makes needs to be considered when training models. To adjust this issue, I tried the following methods:\n",
    "\n",
    "1)Group topics that have less than 15 documents into ONE category 'others'\n",
    "\n",
    "2)Upsample the training dataset"
   ]
  },
  {
   "cell_type": "code",
   "execution_count": 217,
   "metadata": {},
   "outputs": [],
   "source": [
    "#split into train and test\n",
    "test = all_doc2[all_doc2['Area.of.Law'] == 'To be Tested']\n",
    "train = all_doc2[all_doc2['Area.of.Law'] != 'To be Tested']"
   ]
  },
  {
   "cell_type": "code",
   "execution_count": 218,
   "metadata": {},
   "outputs": [],
   "source": [
    "x_test = test['processed_text']"
   ]
  },
  {
   "cell_type": "code",
   "execution_count": 219,
   "metadata": {},
   "outputs": [],
   "source": [
    "#Further split train into validation\n",
    "#stratify = train['Area.of.Law'], \n",
    "x_train, x_validation, y_train, y_validation = train_test_split(train['processed_text'],train['Area.of.Law'],test_size = 0.2, random_state=0)"
   ]
  },
  {
   "cell_type": "markdown",
   "metadata": {},
   "source": [
    "# 1) - Category 'others' for imbalanced data"
   ]
  },
  {
   "cell_type": "code",
   "execution_count": 268,
   "metadata": {},
   "outputs": [
    {
     "data": {
      "text/html": [
       "<div>\n",
       "<style scoped>\n",
       "    .dataframe tbody tr th:only-of-type {\n",
       "        vertical-align: middle;\n",
       "    }\n",
       "\n",
       "    .dataframe tbody tr th {\n",
       "        vertical-align: top;\n",
       "    }\n",
       "\n",
       "    .dataframe thead th {\n",
       "        text-align: right;\n",
       "    }\n",
       "</style>\n",
       "<table border=\"1\" class=\"dataframe\">\n",
       "  <thead>\n",
       "    <tr style=\"text-align: right;\">\n",
       "      <th></th>\n",
       "      <th>processed_text</th>\n",
       "      <th>Area.of.Law</th>\n",
       "    </tr>\n",
       "  </thead>\n",
       "  <tbody>\n",
       "    <tr>\n",
       "      <th>210</th>\n",
       "      <td>nani versus satyendra nath high court judicat...</td>\n",
       "      <td>Contract</td>\n",
       "    </tr>\n",
       "    <tr>\n",
       "      <th>486</th>\n",
       "      <td>west bengal premise tenancy section party ver...</td>\n",
       "      <td>Tenancy Laws</td>\n",
       "    </tr>\n",
       "  </tbody>\n",
       "</table>\n",
       "</div>"
      ],
      "text/plain": [
       "                                        processed_text   Area.of.Law\n",
       "210   nani versus satyendra nath high court judicat...      Contract\n",
       "486   west bengal premise tenancy section party ver...  Tenancy Laws"
      ]
     },
     "execution_count": 268,
     "metadata": {},
     "output_type": "execute_result"
    }
   ],
   "source": [
    "#train data\n",
    "train2 = pd.concat([x_train, y_train],axis=1)\n",
    "train2.sample(2)"
   ]
  },
  {
   "cell_type": "code",
   "execution_count": 221,
   "metadata": {},
   "outputs": [
    {
     "data": {
      "text/plain": [
       "['Constitution',\n",
       " 'Sales Tax And Vat',\n",
       " 'Customs',\n",
       " 'Alternative Dispute Resolution',\n",
       " 'Contract',\n",
       " 'Family Law',\n",
       " 'Civil Laws',\n",
       " 'Administrative Law',\n",
       " 'Transport Law',\n",
       " 'Employment And Labour Law',\n",
       " 'Excise',\n",
       " 'Education',\n",
       " 'Evidence',\n",
       " 'Banking And Finance',\n",
       " 'Arbitration',\n",
       " 'Motor Vehicles',\n",
       " 'Intellectual Property Laws',\n",
       " 'Registration',\n",
       " 'Election Laws',\n",
       " 'Contempt Of Court',\n",
       " 'Government Contracts',\n",
       " 'Insurance Law',\n",
       " 'Cooperative Societies',\n",
       " 'Natural Resources And Energy',\n",
       " 'Partnership And Joint Ventures',\n",
       " 'Legal Profession',\n",
       " 'Consumer Law',\n",
       " 'Media And Telecommunication Laws',\n",
       " 'Armed Forces',\n",
       " 'Negotiable Instruments']"
      ]
     },
     "execution_count": 221,
     "metadata": {},
     "output_type": "execute_result"
    }
   ],
   "source": [
    "#For topics that have less than 15 documents, merge into 'others'\n",
    "others = area_count[area_count['Judgements'] < 25]['Area.of.Law'].to_list()\n",
    "others"
   ]
  },
  {
   "cell_type": "code",
   "execution_count": 223,
   "metadata": {},
   "outputs": [
    {
     "data": {
      "text/html": [
       "<div>\n",
       "<style scoped>\n",
       "    .dataframe tbody tr th:only-of-type {\n",
       "        vertical-align: middle;\n",
       "    }\n",
       "\n",
       "    .dataframe tbody tr th {\n",
       "        vertical-align: top;\n",
       "    }\n",
       "\n",
       "    .dataframe thead th {\n",
       "        text-align: right;\n",
       "    }\n",
       "</style>\n",
       "<table border=\"1\" class=\"dataframe\">\n",
       "  <thead>\n",
       "    <tr style=\"text-align: right;\">\n",
       "      <th></th>\n",
       "      <th>processed_text</th>\n",
       "      <th>Area.of.Law</th>\n",
       "    </tr>\n",
       "  </thead>\n",
       "  <tbody>\n",
       "    <tr>\n",
       "      <th>990</th>\n",
       "      <td>corporation calcutta versus trading high cour...</td>\n",
       "      <td>Criminal Procedure</td>\n",
       "    </tr>\n",
       "    <tr>\n",
       "      <th>522</th>\n",
       "      <td>panchanan ghose versus haridas banerjee high ...</td>\n",
       "      <td>Tenancy Laws</td>\n",
       "    </tr>\n",
       "  </tbody>\n",
       "</table>\n",
       "</div>"
      ],
      "text/plain": [
       "                                        processed_text         Area.of.Law\n",
       "990   corporation calcutta versus trading high cour...  Criminal Procedure\n",
       "522   panchanan ghose versus haridas banerjee high ...        Tenancy Laws"
      ]
     },
     "execution_count": 223,
     "metadata": {},
     "output_type": "execute_result"
    }
   ],
   "source": [
    "train2.loc[train2['Area.of.Law'].isin(others), 'Area.of.Law'] = 'Others' \n",
    "train2.sample(2)"
   ]
  },
  {
   "cell_type": "code",
   "execution_count": 224,
   "metadata": {},
   "outputs": [
    {
     "data": {
      "text/plain": [
       "12"
      ]
     },
     "execution_count": 224,
     "metadata": {},
     "output_type": "execute_result"
    }
   ],
   "source": [
    "train2['Area.of.Law'].nunique()"
   ]
  },
  {
   "cell_type": "markdown",
   "metadata": {},
   "source": [
    "After grouping small subgroups together, there are only 12 unique areas of law left in the training set, which seems like a large drop from the original 42 areas. However, after comparing the results with and without this grouping, we can see that the prediction with grouping 'others' is actually higher (0.64 v.s 0.58). This might be due to the low proportion of judgements associated with these labels in the validation data. "
   ]
  },
  {
   "cell_type": "code",
   "execution_count": 225,
   "metadata": {},
   "outputs": [],
   "source": [
    "x_train2 = train2['processed_text']\n",
    "y_train2 = train2['Area.of.Law']"
   ]
  },
  {
   "cell_type": "markdown",
   "metadata": {},
   "source": [
    "# 2) - Upsampling for imbalanced data"
   ]
  },
  {
   "cell_type": "code",
   "execution_count": 228,
   "metadata": {},
   "outputs": [],
   "source": [
    "train3 = pd.concat([x_train, y_train],axis=1)\n",
    "#train3"
   ]
  },
  {
   "cell_type": "code",
   "execution_count": 229,
   "metadata": {},
   "outputs": [],
   "source": [
    "x = pd.DataFrame(x_train)\n",
    "y = pd.DataFrame(y_train)"
   ]
  },
  {
   "cell_type": "code",
   "execution_count": 230,
   "metadata": {},
   "outputs": [],
   "source": [
    "oversample = RandomOverSampler()\n",
    "x, y = oversample.fit_resample(x, y)"
   ]
  },
  {
   "cell_type": "code",
   "execution_count": 231,
   "metadata": {},
   "outputs": [
    {
     "data": {
      "text/html": [
       "<div>\n",
       "<style scoped>\n",
       "    .dataframe tbody tr th:only-of-type {\n",
       "        vertical-align: middle;\n",
       "    }\n",
       "\n",
       "    .dataframe tbody tr th {\n",
       "        vertical-align: top;\n",
       "    }\n",
       "\n",
       "    .dataframe thead th {\n",
       "        text-align: right;\n",
       "    }\n",
       "</style>\n",
       "<table border=\"1\" class=\"dataframe\">\n",
       "  <thead>\n",
       "    <tr style=\"text-align: right;\">\n",
       "      <th></th>\n",
       "      <th>processed_text</th>\n",
       "      <th>Area.of.Law</th>\n",
       "    </tr>\n",
       "  </thead>\n",
       "  <tbody>\n",
       "    <tr>\n",
       "      <th>1898</th>\n",
       "      <td>party jessops operative society versus regist...</td>\n",
       "      <td>Cooperative Societies</td>\n",
       "    </tr>\n",
       "    <tr>\n",
       "      <th>981</th>\n",
       "      <td>party rajputana trading versus jute gunny bro...</td>\n",
       "      <td>Arbitration</td>\n",
       "    </tr>\n",
       "    <tr>\n",
       "      <th>2123</th>\n",
       "      <td>latika sharma sarkar versus university calcut...</td>\n",
       "      <td>Education</td>\n",
       "    </tr>\n",
       "  </tbody>\n",
       "</table>\n",
       "</div>"
      ],
      "text/plain": [
       "                                         processed_text            Area.of.Law\n",
       "1898   party jessops operative society versus regist...  Cooperative Societies\n",
       "981    party rajputana trading versus jute gunny bro...            Arbitration\n",
       "2123   latika sharma sarkar versus university calcut...              Education"
      ]
     },
     "execution_count": 231,
     "metadata": {},
     "output_type": "execute_result"
    }
   ],
   "source": [
    "train_up = pd.concat([x, y],axis=1)\n",
    "train_up.sample(3)"
   ]
  },
  {
   "cell_type": "markdown",
   "metadata": {},
   "source": [
    "Upsampling by resampling all minority documents to match the count of the majority seems to distort the data too much in this case and does not provide a better prediction score. I then decided to move on with previous ways of dealing with imbalanced data. "
   ]
  },
  {
   "cell_type": "code",
   "execution_count": null,
   "metadata": {},
   "outputs": [],
   "source": []
  },
  {
   "cell_type": "markdown",
   "metadata": {},
   "source": [
    "# Embedding"
   ]
  },
  {
   "cell_type": "code",
   "execution_count": 232,
   "metadata": {},
   "outputs": [],
   "source": [
    "#CountVectorizer\n",
    "vect = CountVectorizer(stop_words='english').fit(x_train2)\n",
    "X_train_vectorized = vect.transform(x_train2)\n",
    "X_validation_vectorized = vect.transform(x_validation) #same # for val\n",
    "X_test_vectorized = vect.transform(x_test) #same # for val\n"
   ]
  },
  {
   "cell_type": "code",
   "execution_count": 233,
   "metadata": {},
   "outputs": [],
   "source": [
    "#tf-idf\n",
    "tfidf_vectorizer=TfidfVectorizer(use_idf=True).fit(x_train2)\n",
    "x_train_tfidf=tfidf_vectorizer.transform(x_train2)\n",
    "x_val_tfidf=tfidf_vectorizer.transform(x_validation)"
   ]
  },
  {
   "cell_type": "markdown",
   "metadata": {},
   "source": [
    "# Model Training"
   ]
  },
  {
   "cell_type": "markdown",
   "metadata": {},
   "source": [
    "From high level, evaluate three of the most common techniques for text classification. "
   ]
  },
  {
   "cell_type": "code",
   "execution_count": null,
   "metadata": {},
   "outputs": [],
   "source": [
    "models = [\n",
    "    LinearSVC(),\n",
    "    MultinomialNB(),\n",
    "    LogisticRegression(random_state=0),\n",
    "]\n",
    "CV = 5\n",
    "cv_df = pd.DataFrame(index=range(CV * len(models)))\n",
    "entries = []\n",
    "for model in models:\n",
    "    model_name = model.__class__.__name__\n",
    "    accuracies = cross_val_score(model, X_train_vectorized, y_train, scoring='accuracy', cv=CV)\n",
    "    for fold_idx, accuracy in enumerate(accuracies):\n",
    "        entries.append((model_name, fold_idx, accuracy))\n",
    "cv_df = pd.DataFrame(entries, columns=['model_name', 'fold_idx', 'accuracy'])"
   ]
  },
  {
   "cell_type": "code",
   "execution_count": 235,
   "metadata": {},
   "outputs": [
    {
     "data": {
      "image/png": "[encoded data removed]",
      "text/plain": [
       "<Figure size 432x288 with 1 Axes>"
      ]
     },
     "metadata": {},
     "output_type": "display_data"
    }
   ],
   "source": [
    "sns.boxplot(x='model_name', y='accuracy', data=cv_df)\n",
    "sns.stripplot(x='model_name', y='accuracy', data=cv_df, \n",
    "              size=8, jitter=True, edgecolor=\"gray\", linewidth=2)\n",
    "plt.show()"
   ]
  },
  {
   "cell_type": "markdown",
   "metadata": {},
   "source": [
    "LogisticRegression seems to be slightly better than the other two. In the following section, I then performed each of these models with gridsearch and ensembling. "
   ]
  },
  {
   "cell_type": "markdown",
   "metadata": {},
   "source": [
    "# Model 1: Logistic Regression"
   ]
  },
  {
   "cell_type": "code",
   "execution_count": null,
   "metadata": {},
   "outputs": [],
   "source": [
    "model_logistic = LogisticRegression(random_state=0).fit(X_train_vectorized, y_train)\n",
    "preds_logistic = model_logistic.predict(X_validation_vectorized)\n",
    "score = accuracy_score(preds_logistic, y_validation)\n",
    "print(\"Logistic - Count Vector: \", score)"
   ]
  },
  {
   "cell_type": "code",
   "execution_count": 237,
   "metadata": {},
   "outputs": [],
   "source": [
    "# Create regularization penalty space\n",
    "penalty = ['l1', 'l2']\n",
    "\n",
    "# Create regularization hyperparameter space\n",
    "C = np.logspace(0, 4, 10)\n",
    "\n",
    "# Create hyperparameter options\n",
    "hyperparameters = dict(C=C, penalty=penalty)"
   ]
  },
  {
   "cell_type": "code",
   "execution_count": null,
   "metadata": {},
   "outputs": [],
   "source": [
    "clf = GridSearchCV(model_logistic, hyperparameters, cv=5, verbose=0)\n",
    "# Fit grid search\n",
    "best_model = clf.fit(X_train_vectorized, y_train)"
   ]
  },
  {
   "cell_type": "code",
   "execution_count": 239,
   "metadata": {},
   "outputs": [
    {
     "name": "stdout",
     "output_type": "stream",
     "text": [
      "Best Penalty: l2\n",
      "Best C: 1.0\n"
     ]
    }
   ],
   "source": [
    "# View best hyperparameters\n",
    "print('Best Penalty:', best_model.best_estimator_.get_params()['penalty'])\n",
    "print('Best C:', best_model.best_estimator_.get_params()['C'])"
   ]
  },
  {
   "cell_type": "code",
   "execution_count": 240,
   "metadata": {},
   "outputs": [],
   "source": [
    "logistic_grid_pred = best_model.predict(X_validation_vectorized)"
   ]
  },
  {
   "cell_type": "code",
   "execution_count": 241,
   "metadata": {},
   "outputs": [
    {
     "name": "stdout",
     "output_type": "stream",
     "text": [
      "Logistic - Count Vector:  0.6\n"
     ]
    }
   ],
   "source": [
    "score = accuracy_score(logistic_grid_pred, y_validation)\n",
    "print(\"Logistic - Count Vector: \", score)"
   ]
  },
  {
   "cell_type": "code",
   "execution_count": 242,
   "metadata": {},
   "outputs": [
    {
     "name": "stdout",
     "output_type": "stream",
     "text": [
      "                                precision    recall  f1-score   support\n",
      "\n",
      "            Administrative Law       0.00      0.00      0.00         1\n",
      "Alternative Dispute Resolution       0.50      0.67      0.57         3\n",
      "                   Arbitration       0.50      0.50      0.50         2\n",
      "           Banking And Finance       0.00      0.00      0.00         2\n",
      "                    Civil Laws       1.00      0.33      0.50         3\n",
      "               Civil Procedure       0.50      0.62      0.55        29\n",
      "                   Company Law       0.25      0.20      0.22         5\n",
      "                  Constitution       0.43      0.60      0.50         5\n",
      "             Contempt Of Court       1.00      0.50      0.67         2\n",
      "                      Contract       0.50      0.60      0.55         5\n",
      "                 Criminal Laws       0.47      0.80      0.59        10\n",
      "            Criminal Procedure       0.64      0.54      0.58        13\n",
      "                       Customs       0.00      0.00      0.00         2\n",
      "                     Education       1.00      0.50      0.67         4\n",
      "     Employment And Labour Law       0.67      0.67      0.67         3\n",
      "                      Evidence       0.00      0.00      0.00         2\n",
      "                        Excise       0.00      0.00      0.00         4\n",
      "                    Family Law       0.00      0.00      0.00         2\n",
      "                    Income Tax       0.92      0.96      0.94        24\n",
      "    Intellectual Property Laws       0.00      0.00      0.00         1\n",
      "                    Limitation       1.00      0.33      0.50         6\n",
      "              Local Government       1.00      0.50      0.67         6\n",
      "                Motor Vehicles       0.00      0.00      0.00         1\n",
      "  Natural Resources And Energy       0.00      0.00      0.00         1\n",
      "                 Property Laws       0.44      0.53      0.48        15\n",
      "             Sales Tax And Vat       0.50      1.00      0.67         2\n",
      "                   Service Law       0.75      0.86      0.80         7\n",
      "               Succession Laws       0.00      0.00      0.00         1\n",
      "                  Tenancy Laws       0.78      0.82      0.80        17\n",
      "                 Transport Law       0.50      0.50      0.50         2\n",
      "\n",
      "                      accuracy                           0.60       180\n",
      "                     macro avg       0.44      0.40      0.40       180\n",
      "                  weighted avg       0.60      0.60      0.58       180\n",
      "\n"
     ]
    },
    {
     "name": "stderr",
     "output_type": "stream",
     "text": [
      "/home/gz6xw/.local/lib/python3.6/site-packages/sklearn/metrics/_classification.py:1272: UndefinedMetricWarning: Precision and F-score are ill-defined and being set to 0.0 in labels with no predicted samples. Use `zero_division` parameter to control this behavior.\n",
      "  _warn_prf(average, modifier, msg_start, len(result))\n",
      "/home/gz6xw/.local/lib/python3.6/site-packages/sklearn/metrics/_classification.py:1272: UndefinedMetricWarning: Precision and F-score are ill-defined and being set to 0.0 in labels with no predicted samples. Use `zero_division` parameter to control this behavior.\n",
      "  _warn_prf(average, modifier, msg_start, len(result))\n",
      "/home/gz6xw/.local/lib/python3.6/site-packages/sklearn/metrics/_classification.py:1272: UndefinedMetricWarning: Precision and F-score are ill-defined and being set to 0.0 in labels with no predicted samples. Use `zero_division` parameter to control this behavior.\n",
      "  _warn_prf(average, modifier, msg_start, len(result))\n"
     ]
    }
   ],
   "source": [
    "print(classification_report(y_validation, logistic_grid_pred)) "
   ]
  },
  {
   "cell_type": "code",
   "execution_count": 243,
   "metadata": {},
   "outputs": [
    {
     "data": {
      "image/png": "[encoded data removed]",
      "text/plain": [
       "<Figure size 432x288 with 2 Axes>"
      ]
     },
     "metadata": {},
     "output_type": "display_data"
    }
   ],
   "source": [
    "conf = confusion_matrix(y_validation, logistic_grid_pred)\n",
    "sns.heatmap(conf)\n",
    "plt.ylabel('Actual')\n",
    "plt.xlabel('Predicted')\n",
    "plt.show()"
   ]
  },
  {
   "cell_type": "code",
   "execution_count": null,
   "metadata": {},
   "outputs": [],
   "source": []
  },
  {
   "cell_type": "markdown",
   "metadata": {},
   "source": [
    "# MODEL 2 - Native Bayes"
   ]
  },
  {
   "cell_type": "code",
   "execution_count": 244,
   "metadata": {},
   "outputs": [
    {
     "name": "stdout",
     "output_type": "stream",
     "text": [
      "Naive Bayes - tfidf:  0.4\n"
     ]
    }
   ],
   "source": [
    "clfrNB = MultinomialNB(alpha = 0.1)\n",
    "clfrNB.fit(x_train_tfidf, y_train)\n",
    "preds = clfrNB.predict(x_val_tfidf)\n",
    "score = accuracy_score(preds, y_validation)\n",
    "print(\"Naive Bayes - tfidf: \", score)"
   ]
  },
  {
   "cell_type": "code",
   "execution_count": 245,
   "metadata": {},
   "outputs": [
    {
     "name": "stdout",
     "output_type": "stream",
     "text": [
      "Naive Bayes - Count Vectors Accuracy:  0.6388888888888888\n"
     ]
    }
   ],
   "source": [
    "model_NB = MultinomialNB(alpha = 0.1)\n",
    "model_NB.fit(X_train_vectorized, y_train)\n",
    "preds = model_NB.predict(X_validation_vectorized)\n",
    "score = accuracy_score(preds, y_validation)\n",
    "print(\"Naive Bayes - Count Vectors Accuracy: \", score)\n"
   ]
  },
  {
   "cell_type": "markdown",
   "metadata": {},
   "source": [
    "CountVector seems to work better than tfidf in this situation"
   ]
  },
  {
   "cell_type": "code",
   "execution_count": 246,
   "metadata": {},
   "outputs": [
    {
     "data": {
      "text/plain": [
       "dict_keys(['alpha', 'class_prior', 'fit_prior'])"
      ]
     },
     "execution_count": 246,
     "metadata": {},
     "output_type": "execute_result"
    }
   ],
   "source": [
    "model_NB.get_params().keys()"
   ]
  },
  {
   "cell_type": "code",
   "execution_count": null,
   "metadata": {},
   "outputs": [],
   "source": [
    "#Grid Search\n",
    "param_grid = {'alpha': [1, 0.1, 0.01, 0.001, 0.0001],\n",
    "                     'fit_prior': [True, False]}\n",
    "              \n",
    "grid = GridSearchCV(model_NB, param_grid, refit = True, verbose = 3) \n",
    "  \n",
    "# fitting the model for grid search \n",
    "grid.fit(X_train_vectorized, y_train) "
   ]
  },
  {
   "cell_type": "code",
   "execution_count": 248,
   "metadata": {},
   "outputs": [
    {
     "data": {
      "text/plain": [
       "0.6388888888888888"
      ]
     },
     "execution_count": 248,
     "metadata": {},
     "output_type": "execute_result"
    }
   ],
   "source": [
    "grid_predictions = grid.predict(X_validation_vectorized) \n",
    "\n",
    "score = accuracy_score(grid_predictions, y_validation)\n",
    "score"
   ]
  },
  {
   "cell_type": "code",
   "execution_count": 249,
   "metadata": {},
   "outputs": [
    {
     "name": "stdout",
     "output_type": "stream",
     "text": [
      "                                precision    recall  f1-score   support\n",
      "\n",
      "            Administrative Law       0.00      0.00      0.00         1\n",
      "Alternative Dispute Resolution       0.38      1.00      0.55         3\n",
      "                   Arbitration       0.00      0.00      0.00         2\n",
      "           Banking And Finance       1.00      0.50      0.67         2\n",
      "                    Civil Laws       1.00      0.33      0.50         3\n",
      "               Civil Procedure       0.55      0.76      0.64        29\n",
      "                   Company Law       0.50      0.40      0.44         5\n",
      "                  Constitution       0.50      0.60      0.55         5\n",
      "             Contempt Of Court       0.00      0.00      0.00         2\n",
      "                      Contract       0.25      0.20      0.22         5\n",
      "                 Criminal Laws       0.62      0.80      0.70        10\n",
      "            Criminal Procedure       0.82      0.69      0.75        13\n",
      "                       Customs       1.00      1.00      1.00         2\n",
      "                     Education       1.00      1.00      1.00         4\n",
      "     Employment And Labour Law       0.00      0.00      0.00         3\n",
      "                      Evidence       0.00      0.00      0.00         2\n",
      "                        Excise       1.00      0.25      0.40         4\n",
      "                    Family Law       0.00      0.00      0.00         2\n",
      "                    Income Tax       0.92      0.96      0.94        24\n",
      "    Intellectual Property Laws       0.00      0.00      0.00         1\n",
      "                    Limitation       1.00      0.17      0.29         6\n",
      "              Local Government       1.00      0.50      0.67         6\n",
      "                Motor Vehicles       0.00      0.00      0.00         1\n",
      "  Natural Resources And Energy       0.00      0.00      0.00         1\n",
      "                 Property Laws       0.44      0.53      0.48        15\n",
      "             Sales Tax And Vat       1.00      0.50      0.67         2\n",
      "                   Service Law       0.78      1.00      0.88         7\n",
      "               Succession Laws       0.33      1.00      0.50         1\n",
      "                  Tenancy Laws       0.68      0.76      0.72        17\n",
      "                 Transport Law       0.20      0.50      0.29         2\n",
      "\n",
      "                      accuracy                           0.64       180\n",
      "                     macro avg       0.50      0.45      0.43       180\n",
      "                  weighted avg       0.64      0.64      0.61       180\n",
      "\n"
     ]
    },
    {
     "name": "stderr",
     "output_type": "stream",
     "text": [
      "/home/gz6xw/.local/lib/python3.6/site-packages/sklearn/metrics/_classification.py:1272: UndefinedMetricWarning: Precision and F-score are ill-defined and being set to 0.0 in labels with no predicted samples. Use `zero_division` parameter to control this behavior.\n",
      "  _warn_prf(average, modifier, msg_start, len(result))\n",
      "/home/gz6xw/.local/lib/python3.6/site-packages/sklearn/metrics/_classification.py:1272: UndefinedMetricWarning: Precision and F-score are ill-defined and being set to 0.0 in labels with no predicted samples. Use `zero_division` parameter to control this behavior.\n",
      "  _warn_prf(average, modifier, msg_start, len(result))\n",
      "/home/gz6xw/.local/lib/python3.6/site-packages/sklearn/metrics/_classification.py:1272: UndefinedMetricWarning: Precision and F-score are ill-defined and being set to 0.0 in labels with no predicted samples. Use `zero_division` parameter to control this behavior.\n",
      "  _warn_prf(average, modifier, msg_start, len(result))\n"
     ]
    }
   ],
   "source": [
    "#f1 score and other evluations\n",
    "print(classification_report(y_validation, preds)) "
   ]
  },
  {
   "cell_type": "code",
   "execution_count": 250,
   "metadata": {},
   "outputs": [
    {
     "data": {
      "image/png": "[encoded data removed]",
      "text/plain": [
       "<Figure size 432x288 with 2 Axes>"
      ]
     },
     "metadata": {},
     "output_type": "display_data"
    }
   ],
   "source": [
    "conf = confusion_matrix(y_validation, preds)\n",
    "sns.heatmap(conf)\n",
    "plt.ylabel('Actual')\n",
    "plt.xlabel('Predicted')\n",
    "plt.show()"
   ]
  },
  {
   "cell_type": "code",
   "execution_count": 251,
   "metadata": {},
   "outputs": [
    {
     "data": {
      "text/plain": [
       "\"\\na = pd.DataFrame(preds)\\nb = pd.DataFrame(y_validation).reset_index()\\nc = pd.concat([a, b], axis=1)\\nc.columns = ['pred_label', 'index', 'actual_label']\\n\\nc['result'] = c.pred_label == c.actual_label\\nc\\n\\n\""
      ]
     },
     "execution_count": 251,
     "metadata": {},
     "output_type": "execute_result"
    }
   ],
   "source": [
    "'''\n",
    "a = pd.DataFrame(preds)\n",
    "b = pd.DataFrame(y_validation).reset_index()\n",
    "c = pd.concat([a, b], axis=1)\n",
    "c.columns = ['pred_label', 'index', 'actual_label']\n",
    "\n",
    "c['result'] = c.pred_label == c.actual_label\n",
    "c\n",
    "\n",
    "'''"
   ]
  },
  {
   "cell_type": "markdown",
   "metadata": {},
   "source": [
    "# MODEL 3 - SVM"
   ]
  },
  {
   "cell_type": "code",
   "execution_count": 252,
   "metadata": {},
   "outputs": [
    {
     "name": "stdout",
     "output_type": "stream",
     "text": [
      "SVM, N-Gram Vectors:  0.48333333333333334\n"
     ]
    }
   ],
   "source": [
    "model_svm = svm.SVC(gamma='auto')\n",
    "model_svm.fit(X_train_vectorized, y_train)\n",
    "preds = model_svm.predict(X_validation_vectorized)\n",
    "score = accuracy_score(preds, y_validation)\n",
    "\n",
    "print(\"SVM, N-Gram Vectors: \", score)"
   ]
  },
  {
   "cell_type": "code",
   "execution_count": null,
   "metadata": {},
   "outputs": [],
   "source": []
  },
  {
   "cell_type": "code",
   "execution_count": null,
   "metadata": {},
   "outputs": [],
   "source": [
    "#Grid Search\n",
    "param_grid = {'kernel': ['rbf', 'linear', 'poly'], \n",
    "                     'gamma': [1, 0.1, 0.01, 0.001, 0.0001],\n",
    "                     'C': [1, 10, 100, 1000]}\n",
    "              \n",
    "grid = GridSearchCV(model_svm, param_grid, refit = True, verbose = 3) \n",
    "  \n",
    "# fitting the model for grid search \n",
    "grid.fit(X_train_vectorized, y_train) "
   ]
  },
  {
   "cell_type": "code",
   "execution_count": 254,
   "metadata": {},
   "outputs": [
    {
     "name": "stdout",
     "output_type": "stream",
     "text": [
      "                                precision    recall  f1-score   support\n",
      "\n",
      "            Administrative Law       0.20      1.00      0.33         1\n",
      "Alternative Dispute Resolution       0.50      0.67      0.57         3\n",
      "                   Arbitration       0.25      0.50      0.33         2\n",
      "           Banking And Finance       0.00      0.00      0.00         2\n",
      "                    Civil Laws       0.50      0.33      0.40         3\n",
      "               Civil Procedure       0.47      0.55      0.51        29\n",
      "                   Company Law       0.25      0.20      0.22         5\n",
      "                  Constitution       0.50      0.80      0.62         5\n",
      "             Contempt Of Court       0.00      0.00      0.00         2\n",
      "                      Contract       0.29      0.40      0.33         5\n",
      "         Cooperative Societies       0.00      0.00      0.00         0\n",
      "                 Criminal Laws       0.47      0.80      0.59        10\n",
      "            Criminal Procedure       0.75      0.46      0.57        13\n",
      "                       Customs       0.50      0.50      0.50         2\n",
      "                     Education       1.00      0.75      0.86         4\n",
      "     Employment And Labour Law       0.50      0.67      0.57         3\n",
      "                      Evidence       0.00      0.00      0.00         2\n",
      "                        Excise       0.00      0.00      0.00         4\n",
      "                    Family Law       0.00      0.00      0.00         2\n",
      "          Government Contracts       0.00      0.00      0.00         0\n",
      "                    Income Tax       0.91      0.83      0.87        24\n",
      "    Intellectual Property Laws       0.00      0.00      0.00         1\n",
      "                    Limitation       0.50      0.17      0.25         6\n",
      "              Local Government       0.43      0.50      0.46         6\n",
      "                Motor Vehicles       0.00      0.00      0.00         1\n",
      "  Natural Resources And Energy       0.00      0.00      0.00         1\n",
      "Partnership And Joint Ventures       0.00      0.00      0.00         0\n",
      "                 Property Laws       0.36      0.33      0.34        15\n",
      "             Sales Tax And Vat       1.00      0.50      0.67         2\n",
      "                   Service Law       1.00      0.71      0.83         7\n",
      "               Succession Laws       0.00      0.00      0.00         1\n",
      "                  Tenancy Laws       0.75      0.71      0.73        17\n",
      "                 Transport Law       0.00      0.00      0.00         2\n",
      "\n",
      "                      accuracy                           0.53       180\n",
      "                     macro avg       0.34      0.34      0.32       180\n",
      "                  weighted avg       0.54      0.53      0.52       180\n",
      "\n"
     ]
    },
    {
     "name": "stderr",
     "output_type": "stream",
     "text": [
      "/home/gz6xw/.local/lib/python3.6/site-packages/sklearn/metrics/_classification.py:1272: UndefinedMetricWarning: Precision and F-score are ill-defined and being set to 0.0 in labels with no predicted samples. Use `zero_division` parameter to control this behavior.\n",
      "  _warn_prf(average, modifier, msg_start, len(result))\n",
      "/home/gz6xw/.local/lib/python3.6/site-packages/sklearn/metrics/_classification.py:1272: UndefinedMetricWarning: Recall and F-score are ill-defined and being set to 0.0 in labels with no true samples. Use `zero_division` parameter to control this behavior.\n",
      "  _warn_prf(average, modifier, msg_start, len(result))\n",
      "/home/gz6xw/.local/lib/python3.6/site-packages/sklearn/metrics/_classification.py:1272: UndefinedMetricWarning: Precision and F-score are ill-defined and being set to 0.0 in labels with no predicted samples. Use `zero_division` parameter to control this behavior.\n",
      "  _warn_prf(average, modifier, msg_start, len(result))\n",
      "/home/gz6xw/.local/lib/python3.6/site-packages/sklearn/metrics/_classification.py:1272: UndefinedMetricWarning: Recall and F-score are ill-defined and being set to 0.0 in labels with no true samples. Use `zero_division` parameter to control this behavior.\n",
      "  _warn_prf(average, modifier, msg_start, len(result))\n",
      "/home/gz6xw/.local/lib/python3.6/site-packages/sklearn/metrics/_classification.py:1272: UndefinedMetricWarning: Precision and F-score are ill-defined and being set to 0.0 in labels with no predicted samples. Use `zero_division` parameter to control this behavior.\n",
      "  _warn_prf(average, modifier, msg_start, len(result))\n",
      "/home/gz6xw/.local/lib/python3.6/site-packages/sklearn/metrics/_classification.py:1272: UndefinedMetricWarning: Recall and F-score are ill-defined and being set to 0.0 in labels with no true samples. Use `zero_division` parameter to control this behavior.\n",
      "  _warn_prf(average, modifier, msg_start, len(result))\n"
     ]
    }
   ],
   "source": [
    "grid_predictions = grid.predict(X_validation_vectorized) \n",
    "  \n",
    "# print classification report \n",
    "print(classification_report(y_validation, grid_predictions))"
   ]
  },
  {
   "cell_type": "code",
   "execution_count": 255,
   "metadata": {},
   "outputs": [
    {
     "data": {
      "image/png": "[encoded data removed]",
      "text/plain": [
       "<Figure size 432x288 with 2 Axes>"
      ]
     },
     "metadata": {},
     "output_type": "display_data"
    }
   ],
   "source": [
    "conf = confusion_matrix(y_validation, grid_predictions)\n",
    "sns.heatmap(conf);"
   ]
  },
  {
   "cell_type": "code",
   "execution_count": 256,
   "metadata": {},
   "outputs": [
    {
     "data": {
      "text/plain": [
       "0.5277777777777778"
      ]
     },
     "execution_count": 256,
     "metadata": {},
     "output_type": "execute_result"
    }
   ],
   "source": [
    "score = accuracy_score(grid_predictions, y_validation)\n",
    "score"
   ]
  },
  {
   "cell_type": "markdown",
   "metadata": {},
   "source": [
    "# Ensemble"
   ]
  },
  {
   "cell_type": "code",
   "execution_count": 257,
   "metadata": {},
   "outputs": [],
   "source": [
    "eclf = EnsembleVoteClassifier(clfs=[model_NB, model_svm], weights=[1,1, 1])"
   ]
  },
  {
   "cell_type": "code",
   "execution_count": 258,
   "metadata": {},
   "outputs": [
    {
     "name": "stderr",
     "output_type": "stream",
     "text": [
      "/home/gz6xw/.local/lib/python3.6/site-packages/sklearn/model_selection/_split.py:667: UserWarning: The least populated class in y has only 1 members, which is less than n_splits=5.\n",
      "  % (min_groups, self.n_splits)), UserWarning)\n"
     ]
    },
    {
     "name": "stdout",
     "output_type": "stream",
     "text": [
      "Accuracy: 0.60 (+/- 0.02) [NB]\n"
     ]
    },
    {
     "name": "stderr",
     "output_type": "stream",
     "text": [
      "/home/gz6xw/.local/lib/python3.6/site-packages/sklearn/model_selection/_split.py:667: UserWarning: The least populated class in y has only 1 members, which is less than n_splits=5.\n",
      "  % (min_groups, self.n_splits)), UserWarning)\n"
     ]
    },
    {
     "name": "stdout",
     "output_type": "stream",
     "text": [
      "Accuracy: 0.44 (+/- 0.02) [SVM]\n",
      "Accuracy: nan (+/- nan) [Ensemble]\n"
     ]
    },
    {
     "name": "stderr",
     "output_type": "stream",
     "text": [
      "/home/gz6xw/.local/lib/python3.6/site-packages/sklearn/model_selection/_split.py:667: UserWarning: The least populated class in y has only 1 members, which is less than n_splits=5.\n",
      "  % (min_groups, self.n_splits)), UserWarning)\n",
      "/home/gz6xw/.local/lib/python3.6/site-packages/sklearn/model_selection/_validation.py:536: FitFailedWarning: Estimator fit failed. The score on this train-test partition for these parameters will be set to nan. Details: \n",
      "ValueError: Number of classifiers and weights must be equal; got 3 weights, 2 clfs\n",
      "\n",
      "  FitFailedWarning)\n"
     ]
    }
   ],
   "source": [
    "\n",
    "labels = ['NB', 'SVM','Ensemble']\n",
    "for clf, label in zip([model_NB, model_svm, eclf], labels):\n",
    "\n",
    "    scores = model_selection.cross_val_score(clf, X_train_vectorized, y_train, \n",
    "                                              cv=5, \n",
    "                                              scoring='accuracy')\n",
    "    print(\"Accuracy: %0.2f (+/- %0.2f) [%s]\" \n",
    "          % (scores.mean(), scores.std(), label))"
   ]
  },
  {
   "cell_type": "code",
   "execution_count": null,
   "metadata": {},
   "outputs": [],
   "source": []
  },
  {
   "cell_type": "markdown",
   "metadata": {},
   "source": [
    "# Exploratory - LDA for 'others'"
   ]
  },
  {
   "cell_type": "code",
   "execution_count": 259,
   "metadata": {},
   "outputs": [],
   "source": [
    "token = all_doc2['processed_text'].str.split(' ')\n",
    "dictionary = Dictionary(token)#for unique words\n",
    "n_topic = all_doc2['Area.of.Law'].nunique() -1 #subtracting 'to be tested' -17"
   ]
  },
  {
   "cell_type": "code",
   "execution_count": 260,
   "metadata": {},
   "outputs": [],
   "source": [
    "bow = [dictionary.doc2bow(text) for text in token] \n",
    "tfidf = gensim.models.TfidfModel(bow)\n",
    "corpus = tfidf[bow]\n",
    "ldamodel = gensim.models.ldamodel.LdaModel(corpus = corpus, num_topics = n_topic, id2word = dictionary, alpha = 'symmetric',\n",
    "                                      random_state = 5)"
   ]
  },
  {
   "cell_type": "code",
   "execution_count": 261,
   "metadata": {},
   "outputs": [
    {
     "name": "stdout",
     "output_type": "stream",
     "text": [
      "\n",
      "Score: 0.6279000043869019\n",
      "Topic 16: 0.002*\"assessee\" + 0.002*\"income\" + 0.002*\"assessment\" + 0.001*\"defendant\" + 0.001*\"rent\" + 0.001*\"company\" + 0.001*\"plaintiff\" + 0.001*\"business\" + 0.001*\"tenant\" + 0.001*\"capital\"\n",
      "\n",
      "Score: 0.1858000010251999\n",
      "Topic 19: 0.001*\"rent\" + 0.001*\"petitioner\" + 0.001*\"company\" + 0.001*\"income\" + 0.001*\"assessment\" + 0.001*\"code\" + 0.001*\"police\" + 0.001*\"contempt\" + 0.001*\"raiyat\" + 0.001*\"decree\"\n",
      "\n",
      "Score: 0.06120000034570694\n",
      "Topic 23: 0.002*\"income\" + 0.002*\"assessee\" + 0.001*\"tribunal\" + 0.001*\"company\" + 0.001*\"school\" + 0.001*\"director\" + 0.001*\"managing\" + 0.001*\"depreciation\" + 0.001*\"gold\" + 0.001*\"profit\"\n",
      "\n",
      "Score: 0.028599999845027924\n",
      "Topic 10: 0.002*\"tribunal\" + 0.002*\"suit\" + 0.002*\"plaintiff\" + 0.002*\"defendant\" + 0.001*\"assessee\" + 0.001*\"delhi\" + 0.001*\"summons\" + 0.001*\"bhatinda\" + 0.001*\"company\" + 0.001*\"appellant\"\n",
      "\n",
      "Score: 0.016200000420212746\n",
      "Topic 29: 0.001*\"valuation\" + 0.001*\"assessee\" + 0.001*\"defendant\" + 0.001*\"plaintiff\" + 0.001*\"share\" + 0.001*\"assessment\" + 0.001*\"company\" + 0.001*\"factory\" + 0.001*\"commissioner\" + 0.001*\"controller\"\n",
      "\n",
      "Score: 0.016100000590085983\n",
      "Topic 1: 0.002*\"service\" + 0.001*\"petitioner\" + 0.001*\"contract\" + 0.001*\"defendant\" + 0.001*\"plaintiff\" + 0.001*\"government\" + 0.001*\"suit\" + 0.001*\"arbitrator\" + 0.001*\"premise\" + 0.001*\"police\"\n",
      "\n",
      "Score: 0.01600000075995922\n",
      "Topic 27: 0.002*\"society\" + 0.001*\"defendant\" + 0.001*\"income\" + 0.001*\"assessee\" + 0.001*\"operative\" + 0.001*\"rent\" + 0.001*\"suit\" + 0.001*\"appellant\" + 0.001*\"sale\" + 0.001*\"bond\"\n",
      "\n",
      "Score: 0.013199999928474426\n",
      "Topic 11: 0.002*\"accused\" + 0.002*\"magistrate\" + 0.001*\"rent\" + 0.001*\"suit\" + 0.001*\"assessee\" + 0.001*\"defendant\" + 0.001*\"code\" + 0.001*\"plaintiff\" + 0.001*\"landlord\" + 0.001*\"income\"\n",
      "\n",
      "Score: 0.012299999594688416\n",
      "Topic 25: 0.002*\"income\" + 0.002*\"assessment\" + 0.001*\"decree\" + 0.001*\"assessee\" + 0.001*\"suit\" + 0.001*\"plaintiff\" + 0.001*\"defendant\" + 0.001*\"arbitrator\" + 0.001*\"dividend\" + 0.001*\"penalty\"\n",
      "\n",
      "Score: 0.011099999770522118\n",
      "Topic 13: 0.001*\"company\" + 0.001*\"plaintiff\" + 0.001*\"defendant\" + 0.001*\"partnership\" + 0.001*\"railway\" + 0.001*\"valuation\" + 0.001*\"probate\" + 0.001*\"election\" + 0.001*\"magistrate\" + 0.001*\"property\"\n"
     ]
    }
   ],
   "source": [
    "b = dictionary.doc2bow(token[1])#property\n",
    "for i, score in sorted(ldamodel[b], key = lambda x: -1*x[1]):\n",
    "        print(\"\\nScore: {}\\nTopic {}: {}\".format(round(score,4), i, ldamodel.print_topic(i,10)))\n"
   ]
  },
  {
   "cell_type": "code",
   "execution_count": 262,
   "metadata": {},
   "outputs": [
    {
     "data": {
      "text/plain": [
       "0.38144037768874095"
      ]
     },
     "execution_count": 262,
     "metadata": {},
     "output_type": "execute_result"
    }
   ],
   "source": [
    "cm_spacy = CoherenceModel(model = ldamodel, texts = token, dictionary = dictionary)\n",
    "cm_spacy.get_coherence()"
   ]
  },
  {
   "cell_type": "code",
   "execution_count": 263,
   "metadata": {},
   "outputs": [
    {
     "data": {
      "text/plain": [
       "[(1, 0.01607714),\n",
       " (10, 0.028629921),\n",
       " (11, 0.013131957),\n",
       " (13, 0.01114244),\n",
       " (16, 0.6278982),\n",
       " (19, 0.1858463),\n",
       " (23, 0.061164986),\n",
       " (25, 0.0123156905),\n",
       " (27, 0.016016303),\n",
       " (29, 0.016214553)]"
      ]
     },
     "execution_count": 263,
     "metadata": {},
     "output_type": "execute_result"
    }
   ],
   "source": [
    "ldamodel.get_document_topics(b) # topic number"
   ]
  },
  {
   "cell_type": "code",
   "execution_count": null,
   "metadata": {},
   "outputs": [],
   "source": []
  },
  {
   "cell_type": "markdown",
   "metadata": {},
   "source": [
    "# Final Prediction"
   ]
  },
  {
   "cell_type": "code",
   "execution_count": null,
   "metadata": {},
   "outputs": [],
   "source": [
    "#Predict on test data using Naive Bayes Model\n",
    "test['Area.of.Law'] = model_NB.predict(X_test_vectorized)"
   ]
  },
  {
   "cell_type": "code",
   "execution_count": 271,
   "metadata": {},
   "outputs": [],
   "source": [
    "results = test[['Judgements', 'Area.of.Law']]"
   ]
  },
  {
   "cell_type": "code",
   "execution_count": 273,
   "metadata": {},
   "outputs": [],
   "source": [
    "results.to_csv('../Zhu_Guangda_results.csv', index= False)"
   ]
  },
  {
   "cell_type": "code",
   "execution_count": null,
   "metadata": {},
   "outputs": [],
   "source": []
  },
  {
   "cell_type": "code",
   "execution_count": null,
   "metadata": {},
   "outputs": [],
   "source": []
  },
  {
   "cell_type": "markdown",
   "metadata": {},
   "source": [
    "Thank you for reading this document!"
   ]
  }
 ],
 "metadata": {
  "kernelspec": {
   "display_name": "Python 3",
   "language": "python",
   "name": "python3"
  },
  "language_info": {
   "codemirror_mode": {
    "name": "ipython",
    "version": 3
   },
   "file_extension": ".py",
   "mimetype": "text/x-python",
   "name": "python",
   "nbconvert_exporter": "python",
   "pygments_lexer": "ipython3",
   "version": "3.6.6"
  }
 },
 "nbformat": 4,
 "nbformat_minor": 2
}
